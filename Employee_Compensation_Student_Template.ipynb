{
 "cells": [
  {
   "cell_type": "code",
   "execution_count": 1,
   "metadata": {},
   "outputs": [],
   "source": [
    "# import the modules\n",
    "\n",
    "import numpy as np \n",
    "import pandas as pd\n",
    "%matplotlib inline\n",
    "import matplotlib.pyplot as plt  \n",
    "import seaborn as sns\n",
    "from scipy import stats\n",
    "#For some Statistics\n",
    "from scipy.stats import norm, skew\n",
    "from sklearn.impute import SimpleImputer\n",
    "from sklearn.model_selection import train_test_split\n",
    "from sklearn.linear_model import LinearRegression, Lasso, Ridge\n",
    "from sklearn.metrics import r2_score\n",
    "from sklearn.preprocessing import PolynomialFeatures\n",
    "from sklearn.pipeline import make_pipeline\n",
    "\n",
    "import warnings\n",
    "warnings.filterwarnings('ignore')"
   ]
  },
  {
   "cell_type": "markdown",
   "metadata": {},
   "source": [
    "### Define the following functions as per the description, so that they can be called later to perform the tasks."
   ]
  },
  {
   "cell_type": "markdown",
   "metadata": {},
   "source": [
    "### Read the dataset. Take a look at the dataset. \n",
    "\n",
    "* Check the data types present in the dataframe.\n",
    "* Call the num_and_cat_columns() with train as the parameter and store the results.\n",
    "* Are there any missing values? Are there any Outliers? How do you want to treat them?\n"
   ]
  },
  {
   "cell_type": "code",
   "execution_count": 2,
   "metadata": {},
   "outputs": [],
   "source": [
    "# Code starts here\n",
    "\n",
    "data_train=pd.read_csv('train.csv')\n",
    "data_test=pd.read_csv('test.csv')\n",
    "\n",
    "\n",
    "# Code ends here"
   ]
  },
  {
   "cell_type": "code",
   "execution_count": 3,
   "metadata": {},
   "outputs": [
    {
     "data": {
      "text/plain": [
       "(567103, 13)"
      ]
     },
     "execution_count": 3,
     "metadata": {},
     "output_type": "execute_result"
    }
   ],
   "source": [
    "data_train.shape"
   ]
  },
  {
   "cell_type": "code",
   "execution_count": 4,
   "metadata": {},
   "outputs": [
    {
     "data": {
      "text/plain": [
       "(177220, 12)"
      ]
     },
     "execution_count": 4,
     "metadata": {},
     "output_type": "execute_result"
    }
   ],
   "source": [
    "data_test.shape"
   ]
  },
  {
   "cell_type": "code",
   "execution_count": 5,
   "metadata": {},
   "outputs": [
    {
     "data": {
      "text/html": [
       "<div>\n",
       "<style scoped>\n",
       "    .dataframe tbody tr th:only-of-type {\n",
       "        vertical-align: middle;\n",
       "    }\n",
       "\n",
       "    .dataframe tbody tr th {\n",
       "        vertical-align: top;\n",
       "    }\n",
       "\n",
       "    .dataframe thead th {\n",
       "        text-align: right;\n",
       "    }\n",
       "</style>\n",
       "<table border=\"1\" class=\"dataframe\">\n",
       "  <thead>\n",
       "    <tr style=\"text-align: right;\">\n",
       "      <th></th>\n",
       "      <th>Id</th>\n",
       "      <th>Year Type</th>\n",
       "      <th>Year</th>\n",
       "      <th>Organization Group</th>\n",
       "      <th>Department</th>\n",
       "      <th>Union</th>\n",
       "      <th>Job Family</th>\n",
       "      <th>Job</th>\n",
       "      <th>Employee Identifier</th>\n",
       "      <th>Retirement</th>\n",
       "      <th>Health and Dental</th>\n",
       "      <th>Other Benefits</th>\n",
       "    </tr>\n",
       "  </thead>\n",
       "  <tbody>\n",
       "    <tr>\n",
       "      <th>0</th>\n",
       "      <td>0</td>\n",
       "      <td>Calendar</td>\n",
       "      <td>2017</td>\n",
       "      <td>Public Works, Transportation &amp; Commerce</td>\n",
       "      <td>NaN</td>\n",
       "      <td>Electrical Workers, Local 6</td>\n",
       "      <td>Journeyman Trade</td>\n",
       "      <td>Electrical Line Worker</td>\n",
       "      <td>8549078</td>\n",
       "      <td>$0.0</td>\n",
       "      <td>$13051.16</td>\n",
       "      <td>$0.0</td>\n",
       "    </tr>\n",
       "    <tr>\n",
       "      <th>1</th>\n",
       "      <td>1</td>\n",
       "      <td>Calendar</td>\n",
       "      <td>2019</td>\n",
       "      <td>Public Protection</td>\n",
       "      <td>NaN</td>\n",
       "      <td>SEIU, Local 1021, Misc</td>\n",
       "      <td>Correction &amp; Detention</td>\n",
       "      <td>Counselor, Juvenile Hall PERS</td>\n",
       "      <td>8546443</td>\n",
       "      <td>$21487.97</td>\n",
       "      <td>$28361.72</td>\n",
       "      <td>$753.13</td>\n",
       "    </tr>\n",
       "    <tr>\n",
       "      <th>2</th>\n",
       "      <td>2</td>\n",
       "      <td>Fiscal</td>\n",
       "      <td>2018</td>\n",
       "      <td>Community Health</td>\n",
       "      <td>NaN</td>\n",
       "      <td>SEIU, Local 1021, Misc</td>\n",
       "      <td>Dietary &amp; Food</td>\n",
       "      <td>Food Service Worker</td>\n",
       "      <td>8512207</td>\n",
       "      <td>$12468.31</td>\n",
       "      <td>$13863.98</td>\n",
       "      <td>$4464.84</td>\n",
       "    </tr>\n",
       "    <tr>\n",
       "      <th>3</th>\n",
       "      <td>3</td>\n",
       "      <td>Fiscal</td>\n",
       "      <td>2018</td>\n",
       "      <td>Public Protection</td>\n",
       "      <td>NaN</td>\n",
       "      <td>SEIU, Local 1021, Misc</td>\n",
       "      <td>Correction &amp; Detention</td>\n",
       "      <td>Counselor, Juvenile Hall SFERS</td>\n",
       "      <td>8542154</td>\n",
       "      <td>$0.0</td>\n",
       "      <td>$0.0</td>\n",
       "      <td>$1787.63</td>\n",
       "    </tr>\n",
       "    <tr>\n",
       "      <th>4</th>\n",
       "      <td>4</td>\n",
       "      <td>Fiscal</td>\n",
       "      <td>2017</td>\n",
       "      <td>Public Protection</td>\n",
       "      <td>POL Police</td>\n",
       "      <td>SEIU - Miscellaneous, Local 1021</td>\n",
       "      <td>Protection &amp; Apprehension</td>\n",
       "      <td>Police Cadet</td>\n",
       "      <td>48828</td>\n",
       "      <td>$4489.2</td>\n",
       "      <td>$8003.53</td>\n",
       "      <td>$2015.35</td>\n",
       "    </tr>\n",
       "  </tbody>\n",
       "</table>\n",
       "</div>"
      ],
      "text/plain": [
       "   Id Year Type  Year                       Organization Group  Department  \\\n",
       "0   0  Calendar  2017  Public Works, Transportation & Commerce         NaN   \n",
       "1   1  Calendar  2019                        Public Protection         NaN   \n",
       "2   2    Fiscal  2018                         Community Health         NaN   \n",
       "3   3    Fiscal  2018                        Public Protection         NaN   \n",
       "4   4    Fiscal  2017                        Public Protection  POL Police   \n",
       "\n",
       "                              Union                 Job Family  \\\n",
       "0       Electrical Workers, Local 6           Journeyman Trade   \n",
       "1            SEIU, Local 1021, Misc     Correction & Detention   \n",
       "2            SEIU, Local 1021, Misc             Dietary & Food   \n",
       "3            SEIU, Local 1021, Misc     Correction & Detention   \n",
       "4  SEIU - Miscellaneous, Local 1021  Protection & Apprehension   \n",
       "\n",
       "                              Job  Employee Identifier Retirement  \\\n",
       "0          Electrical Line Worker              8549078       $0.0   \n",
       "1   Counselor, Juvenile Hall PERS              8546443  $21487.97   \n",
       "2             Food Service Worker              8512207  $12468.31   \n",
       "3  Counselor, Juvenile Hall SFERS              8542154       $0.0   \n",
       "4                    Police Cadet                48828    $4489.2   \n",
       "\n",
       "  Health and Dental Other Benefits  \n",
       "0         $13051.16           $0.0  \n",
       "1         $28361.72        $753.13  \n",
       "2         $13863.98       $4464.84  \n",
       "3              $0.0       $1787.63  \n",
       "4          $8003.53       $2015.35  "
      ]
     },
     "execution_count": 5,
     "metadata": {},
     "output_type": "execute_result"
    }
   ],
   "source": [
    "data_test.head()"
   ]
  },
  {
   "cell_type": "code",
   "execution_count": 6,
   "metadata": {},
   "outputs": [
    {
     "name": "stdout",
     "output_type": "stream",
     "text": [
      "<class 'pandas.core.frame.DataFrame'>\n",
      "RangeIndex: 567103 entries, 0 to 567102\n",
      "Data columns (total 13 columns):\n",
      " #   Column               Non-Null Count   Dtype  \n",
      "---  ------               --------------   -----  \n",
      " 0   Id                   567103 non-null  int64  \n",
      " 1   Year Type            567103 non-null  object \n",
      " 2   Year                 567103 non-null  int64  \n",
      " 3   Organization Group   567103 non-null  object \n",
      " 4   Department           272038 non-null  object \n",
      " 5   Union                566758 non-null  object \n",
      " 6   Job Family           567103 non-null  object \n",
      " 7   Job                  567100 non-null  object \n",
      " 8   Employee Identifier  567103 non-null  int64  \n",
      " 9   Retirement           567103 non-null  object \n",
      " 10  Health and Dental    567103 non-null  object \n",
      " 11  Other Benefits       567103 non-null  object \n",
      " 12  Total Compensation   567103 non-null  float64\n",
      "dtypes: float64(1), int64(3), object(9)\n",
      "memory usage: 56.2+ MB\n"
     ]
    }
   ],
   "source": [
    "data_train.info()"
   ]
  },
  {
   "cell_type": "code",
   "execution_count": null,
   "metadata": {},
   "outputs": [],
   "source": []
  },
  {
   "cell_type": "code",
   "execution_count": 7,
   "metadata": {},
   "outputs": [
    {
     "name": "stdout",
     "output_type": "stream",
     "text": [
      "categorical_columns: ['Year Type', 'Organization Group', 'Department', 'Union', 'Job Family', 'Job', 'Retirement', 'Health and Dental', 'Other Benefits']\n",
      "numerical_columns: ['Id', 'Year', 'Employee Identifier', 'Total Compensation']\n"
     ]
    }
   ],
   "source": [
    "categorical_columns = [c for c in data_train.columns \n",
    "                       if data_train[c].dtype.name == 'object']\n",
    "numerical_columns = [c for c in data_train.columns \n",
    "                     if data_train[c].dtype.name != 'object']\n",
    "\n",
    "print('categorical_columns:', categorical_columns)\n",
    "print('numerical_columns:', numerical_columns)"
   ]
  },
  {
   "cell_type": "markdown",
   "metadata": {},
   "source": [
    "### Visualize the data\n",
    "\n",
    "- Check for the categorical & continuous features. \n",
    "- Check out the best plots for plotting between categorical target and continuous features and try making some inferences from these plots.\n",
    "-Clean the data and apply some data preprocessing techniques\n",
    "\n"
   ]
  },
  {
   "cell_type": "code",
   "execution_count": 8,
   "metadata": {},
   "outputs": [
    {
     "data": {
      "text/plain": [
       "array([[<AxesSubplot:title={'center':'Id'}>,\n",
       "        <AxesSubplot:title={'center':'Year'}>],\n",
       "       [<AxesSubplot:title={'center':'Employee Identifier'}>,\n",
       "        <AxesSubplot:title={'center':'Total Compensation'}>]],\n",
       "      dtype=object)"
      ]
     },
     "execution_count": 8,
     "metadata": {},
     "output_type": "execute_result"
    },
    {
     "data": {
      "image/png": "[encoded data removed]",
      "text/plain": [
       "<Figure size 720x360 with 4 Axes>"
      ]
     },
     "metadata": {
      "needs_background": "light"
     },
     "output_type": "display_data"
    }
   ],
   "source": [
    "data_train.hist(bins=50, figsize=(10,5))"
   ]
  },
  {
   "cell_type": "code",
   "execution_count": 9,
   "metadata": {},
   "outputs": [
    {
     "data": {
      "image/png": "[encoded data removed]",
      "text/plain": [
       "<Figure size 720x288 with 2 Axes>"
      ]
     },
     "metadata": {
      "needs_background": "light"
     },
     "output_type": "display_data"
    },
    {
     "data": {
      "image/png": "[encoded data removed]",
      "text/plain": [
       "<Figure size 432x288 with 1 Axes>"
      ]
     },
     "metadata": {
      "needs_background": "light"
     },
     "output_type": "display_data"
    }
   ],
   "source": [
    "# Code starts here\n",
    "\n",
    "num_cols = ['Year', 'Employee Identifier', 'Total Compensation']\n",
    "for i in range(0,len(num_cols),2):\n",
    "    if len(num_cols) > i+1:\n",
    "        plt.figure(figsize=(10,4))\n",
    "        plt.subplot(121)\n",
    "        sns.distplot(data_train[num_cols[i]], hist=True, kde=True)\n",
    "        plt.subplot(122)            \n",
    "        sns.distplot(data_train[num_cols[i+1]], hist=True, kde=True)\n",
    "        plt.tight_layout()\n",
    "        plt.show()\n",
    "\n",
    "    else:\n",
    "        sns.distplot(data_train[num_cols[i]], hist=True, kde=True)\n",
    "\n",
    "# Have a look at the features, check the type where any currency is involved. \n",
    "# We have columns with compensations stored in form of strings. We need to clean it and convert this to numeric. \n",
    "# Call the clean_dollar() to do the same. \n",
    "\n",
    "\n"
   ]
  },
  {
   "cell_type": "code",
   "execution_count": 10,
   "metadata": {},
   "outputs": [
    {
     "data": {
      "text/html": [
       "<div>\n",
       "<style scoped>\n",
       "    .dataframe tbody tr th:only-of-type {\n",
       "        vertical-align: middle;\n",
       "    }\n",
       "\n",
       "    .dataframe tbody tr th {\n",
       "        vertical-align: top;\n",
       "    }\n",
       "\n",
       "    .dataframe thead th {\n",
       "        text-align: right;\n",
       "    }\n",
       "</style>\n",
       "<table border=\"1\" class=\"dataframe\">\n",
       "  <thead>\n",
       "    <tr style=\"text-align: right;\">\n",
       "      <th></th>\n",
       "      <th>Id</th>\n",
       "      <th>Year</th>\n",
       "      <th>Employee Identifier</th>\n",
       "      <th>Total Compensation</th>\n",
       "    </tr>\n",
       "  </thead>\n",
       "  <tbody>\n",
       "    <tr>\n",
       "      <th>Id</th>\n",
       "      <td>1.000000</td>\n",
       "      <td>0.002284</td>\n",
       "      <td>0.001306</td>\n",
       "      <td>0.001243</td>\n",
       "    </tr>\n",
       "    <tr>\n",
       "      <th>Year</th>\n",
       "      <td>0.002284</td>\n",
       "      <td>1.000000</td>\n",
       "      <td>0.807132</td>\n",
       "      <td>-0.050990</td>\n",
       "    </tr>\n",
       "    <tr>\n",
       "      <th>Employee Identifier</th>\n",
       "      <td>0.001306</td>\n",
       "      <td>0.807132</td>\n",
       "      <td>1.000000</td>\n",
       "      <td>-0.162666</td>\n",
       "    </tr>\n",
       "    <tr>\n",
       "      <th>Total Compensation</th>\n",
       "      <td>0.001243</td>\n",
       "      <td>-0.050990</td>\n",
       "      <td>-0.162666</td>\n",
       "      <td>1.000000</td>\n",
       "    </tr>\n",
       "  </tbody>\n",
       "</table>\n",
       "</div>"
      ],
      "text/plain": [
       "                           Id      Year  Employee Identifier  \\\n",
       "Id                   1.000000  0.002284             0.001306   \n",
       "Year                 0.002284  1.000000             0.807132   \n",
       "Employee Identifier  0.001306  0.807132             1.000000   \n",
       "Total Compensation   0.001243 -0.050990            -0.162666   \n",
       "\n",
       "                     Total Compensation  \n",
       "Id                             0.001243  \n",
       "Year                          -0.050990  \n",
       "Employee Identifier           -0.162666  \n",
       "Total Compensation             1.000000  "
      ]
     },
     "execution_count": 10,
     "metadata": {},
     "output_type": "execute_result"
    }
   ],
   "source": [
    "data_train.corr()"
   ]
  },
  {
   "cell_type": "code",
   "execution_count": 11,
   "metadata": {},
   "outputs": [],
   "source": [
    "data_train['Retirement']=data_train['Retirement'].str.replace('$','')\n",
    "data_train['Retirement'] = data_train['Retirement'].astype(float)"
   ]
  },
  {
   "cell_type": "code",
   "execution_count": 12,
   "metadata": {},
   "outputs": [],
   "source": [
    "data_train['Health and Dental']=data_train['Health and Dental'].str.replace('$','')\n",
    "data_train['Health and Dental'] = data_train['Health and Dental'].astype(float)"
   ]
  },
  {
   "cell_type": "code",
   "execution_count": 13,
   "metadata": {},
   "outputs": [],
   "source": [
    "data_train['Other Benefits']=data_train['Other Benefits'].str.replace('$','')\n",
    "data_train['Other Benefits'] = data_train['Other Benefits'].astype(float)"
   ]
  },
  {
   "cell_type": "code",
   "execution_count": 14,
   "metadata": {},
   "outputs": [
    {
     "name": "stdout",
     "output_type": "stream",
     "text": [
      "categorical_columns: ['Year Type', 'Organization Group', 'Department', 'Union', 'Job Family', 'Job']\n",
      "numerical_columns: ['Id', 'Year', 'Employee Identifier', 'Retirement', 'Health and Dental', 'Other Benefits', 'Total Compensation']\n"
     ]
    }
   ],
   "source": [
    "categorical_columns = [c for c in data_train.columns \n",
    "                       if data_train[c].dtype.name == 'object']\n",
    "numerical_columns = [c for c in data_train.columns \n",
    "                     if data_train[c].dtype.name != 'object']\n",
    "\n",
    "print('categorical_columns:', categorical_columns)\n",
    "print('numerical_columns:', numerical_columns)"
   ]
  },
  {
   "cell_type": "code",
   "execution_count": 15,
   "metadata": {},
   "outputs": [
    {
     "data": {
      "text/html": [
       "<div>\n",
       "<style scoped>\n",
       "    .dataframe tbody tr th:only-of-type {\n",
       "        vertical-align: middle;\n",
       "    }\n",
       "\n",
       "    .dataframe tbody tr th {\n",
       "        vertical-align: top;\n",
       "    }\n",
       "\n",
       "    .dataframe thead th {\n",
       "        text-align: right;\n",
       "    }\n",
       "</style>\n",
       "<table border=\"1\" class=\"dataframe\">\n",
       "  <thead>\n",
       "    <tr style=\"text-align: right;\">\n",
       "      <th></th>\n",
       "      <th>Id</th>\n",
       "      <th>Year</th>\n",
       "      <th>Employee Identifier</th>\n",
       "      <th>Retirement</th>\n",
       "      <th>Health and Dental</th>\n",
       "      <th>Other Benefits</th>\n",
       "      <th>Total Compensation</th>\n",
       "    </tr>\n",
       "  </thead>\n",
       "  <tbody>\n",
       "    <tr>\n",
       "      <th>Id</th>\n",
       "      <td>1.000000</td>\n",
       "      <td>0.002284</td>\n",
       "      <td>0.001306</td>\n",
       "      <td>0.001240</td>\n",
       "      <td>0.003082</td>\n",
       "      <td>0.003113</td>\n",
       "      <td>0.001243</td>\n",
       "    </tr>\n",
       "    <tr>\n",
       "      <th>Year</th>\n",
       "      <td>0.002284</td>\n",
       "      <td>1.000000</td>\n",
       "      <td>0.807132</td>\n",
       "      <td>-0.094384</td>\n",
       "      <td>0.173500</td>\n",
       "      <td>-0.046828</td>\n",
       "      <td>-0.050990</td>\n",
       "    </tr>\n",
       "    <tr>\n",
       "      <th>Employee Identifier</th>\n",
       "      <td>0.001306</td>\n",
       "      <td>0.807132</td>\n",
       "      <td>1.000000</td>\n",
       "      <td>-0.191819</td>\n",
       "      <td>0.184418</td>\n",
       "      <td>-0.154439</td>\n",
       "      <td>-0.162666</td>\n",
       "    </tr>\n",
       "    <tr>\n",
       "      <th>Retirement</th>\n",
       "      <td>0.001240</td>\n",
       "      <td>-0.094384</td>\n",
       "      <td>-0.191819</td>\n",
       "      <td>1.000000</td>\n",
       "      <td>0.596254</td>\n",
       "      <td>0.740177</td>\n",
       "      <td>0.963019</td>\n",
       "    </tr>\n",
       "    <tr>\n",
       "      <th>Health and Dental</th>\n",
       "      <td>0.003082</td>\n",
       "      <td>0.173500</td>\n",
       "      <td>0.184418</td>\n",
       "      <td>0.596254</td>\n",
       "      <td>1.000000</td>\n",
       "      <td>0.455643</td>\n",
       "      <td>0.642519</td>\n",
       "    </tr>\n",
       "    <tr>\n",
       "      <th>Other Benefits</th>\n",
       "      <td>0.003113</td>\n",
       "      <td>-0.046828</td>\n",
       "      <td>-0.154439</td>\n",
       "      <td>0.740177</td>\n",
       "      <td>0.455643</td>\n",
       "      <td>1.000000</td>\n",
       "      <td>0.757083</td>\n",
       "    </tr>\n",
       "    <tr>\n",
       "      <th>Total Compensation</th>\n",
       "      <td>0.001243</td>\n",
       "      <td>-0.050990</td>\n",
       "      <td>-0.162666</td>\n",
       "      <td>0.963019</td>\n",
       "      <td>0.642519</td>\n",
       "      <td>0.757083</td>\n",
       "      <td>1.000000</td>\n",
       "    </tr>\n",
       "  </tbody>\n",
       "</table>\n",
       "</div>"
      ],
      "text/plain": [
       "                           Id      Year  Employee Identifier  Retirement  \\\n",
       "Id                   1.000000  0.002284             0.001306    0.001240   \n",
       "Year                 0.002284  1.000000             0.807132   -0.094384   \n",
       "Employee Identifier  0.001306  0.807132             1.000000   -0.191819   \n",
       "Retirement           0.001240 -0.094384            -0.191819    1.000000   \n",
       "Health and Dental    0.003082  0.173500             0.184418    0.596254   \n",
       "Other Benefits       0.003113 -0.046828            -0.154439    0.740177   \n",
       "Total Compensation   0.001243 -0.050990            -0.162666    0.963019   \n",
       "\n",
       "                     Health and Dental  Other Benefits  Total Compensation  \n",
       "Id                            0.003082        0.003113            0.001243  \n",
       "Year                          0.173500       -0.046828           -0.050990  \n",
       "Employee Identifier           0.184418       -0.154439           -0.162666  \n",
       "Retirement                    0.596254        0.740177            0.963019  \n",
       "Health and Dental             1.000000        0.455643            0.642519  \n",
       "Other Benefits                0.455643        1.000000            0.757083  \n",
       "Total Compensation            0.642519        0.757083            1.000000  "
      ]
     },
     "execution_count": 15,
     "metadata": {},
     "output_type": "execute_result"
    }
   ],
   "source": [
    "data_train.corr()"
   ]
  },
  {
   "cell_type": "code",
   "execution_count": 16,
   "metadata": {},
   "outputs": [],
   "source": [
    "#data_train['Organization Group'].value_counts()"
   ]
  },
  {
   "cell_type": "code",
   "execution_count": null,
   "metadata": {},
   "outputs": [],
   "source": []
  },
  {
   "cell_type": "code",
   "execution_count": 17,
   "metadata": {},
   "outputs": [],
   "source": [
    "#data_train['Department'].value_counts()"
   ]
  },
  {
   "cell_type": "code",
   "execution_count": 18,
   "metadata": {},
   "outputs": [],
   "source": [
    "#data_train['Job Family'].value_counts()"
   ]
  },
  {
   "cell_type": "code",
   "execution_count": 19,
   "metadata": {},
   "outputs": [],
   "source": [
    "#data_train['Job'].value_counts()"
   ]
  },
  {
   "cell_type": "code",
   "execution_count": 20,
   "metadata": {},
   "outputs": [
    {
     "data": {
      "image/png": "[encoded data removed]",
      "text/plain": [
       "<Figure size 720x288 with 2 Axes>"
      ]
     },
     "metadata": {
      "needs_background": "light"
     },
     "output_type": "display_data"
    },
    {
     "data": {
      "image/png": "[encoded data removed]",
      "text/plain": [
       "<Figure size 720x288 with 2 Axes>"
      ]
     },
     "metadata": {
      "needs_background": "light"
     },
     "output_type": "display_data"
    },
    {
     "data": {
      "image/png": "[encoded data removed]",
      "text/plain": [
       "<Figure size 720x288 with 2 Axes>"
      ]
     },
     "metadata": {
      "needs_background": "light"
     },
     "output_type": "display_data"
    },
    {
     "data": {
      "image/png": "[encoded data removed]",
      "text/plain": [
       "<Figure size 432x288 with 1 Axes>"
      ]
     },
     "metadata": {
      "needs_background": "light"
     },
     "output_type": "display_data"
    }
   ],
   "source": [
    "num_cols = ['Id', 'Year', 'Employee Identifier', 'Retirement', 'Health and Dental', 'Other Benefits', 'Total Compensation']\n",
    "facet = None\n",
    "for i in range(0,len(num_cols),2):\n",
    "    if len(num_cols) > i+1:\n",
    "        plt.figure(figsize=(10,4))\n",
    "        plt.subplot(121)\n",
    "        sns.boxplot(facet, num_cols[i],data = data_train)\n",
    "        plt.subplot(122)            \n",
    "        sns.boxplot(facet, num_cols[i+1],data = data_train)\n",
    "        plt.tight_layout()\n",
    "        plt.show()\n",
    "\n",
    "    else:\n",
    "        sns.boxplot(facet, num_cols[i],data = data_train)"
   ]
  },
  {
   "cell_type": "code",
   "execution_count": 21,
   "metadata": {},
   "outputs": [
    {
     "data": {
      "text/plain": [
       "<AxesSubplot:xlabel='count', ylabel='Organization Group'>"
      ]
     },
     "execution_count": 21,
     "metadata": {},
     "output_type": "execute_result"
    },
    {
     "data": {
      "image/png": "[encoded data removed]",
      "text/plain": [
       "<Figure size 864x432 with 1 Axes>"
      ]
     },
     "metadata": {
      "needs_background": "light"
     },
     "output_type": "display_data"
    }
   ],
   "source": [
    "plt.figure(figsize=(12,6))\n",
    "sns.countplot(y='Organization Group', data=data_train)"
   ]
  },
  {
   "cell_type": "code",
   "execution_count": 22,
   "metadata": {},
   "outputs": [],
   "source": [
    "#cols = ['Year', 'Employee Identifier', 'Retirement', 'Health and Dental', 'Other Benefits', 'Total Compensation']\n",
    "#sns.pairplot(data_train[cols])"
   ]
  },
  {
   "cell_type": "code",
   "execution_count": 23,
   "metadata": {},
   "outputs": [
    {
     "name": "stdout",
     "output_type": "stream",
     "text": [
      "Id                      283551.00\n",
      "Year                         3.00\n",
      "Employee Identifier    8526552.50\n",
      "Retirement               16908.84\n",
      "Health and Dental        10917.41\n",
      "Other Benefits            5941.58\n",
      "Total Compensation      126905.72\n",
      "dtype: float64\n"
     ]
    }
   ],
   "source": [
    "Q1 = data_train.quantile(0.25)\n",
    "Q3 = data_train.quantile(0.75)\n",
    "IQR = Q3 - Q1\n",
    "print(IQR)"
   ]
  },
  {
   "cell_type": "code",
   "execution_count": 24,
   "metadata": {},
   "outputs": [
    {
     "data": {
      "text/plain": [
       "(567103, 13)"
      ]
     },
     "execution_count": 24,
     "metadata": {},
     "output_type": "execute_result"
    }
   ],
   "source": [
    "data_train.shape"
   ]
  },
  {
   "cell_type": "code",
   "execution_count": 25,
   "metadata": {},
   "outputs": [],
   "source": [
    "total = data_train.isnull().sum(axis=0).sort_values(ascending=False)\n",
    "percent = ((data_train.isnull().sum(axis=0)/data_train.isnull().count(axis=0))*100).sort_values(ascending=False)"
   ]
  },
  {
   "cell_type": "code",
   "execution_count": 26,
   "metadata": {},
   "outputs": [
    {
     "data": {
      "text/html": [
       "<div>\n",
       "<style scoped>\n",
       "    .dataframe tbody tr th:only-of-type {\n",
       "        vertical-align: middle;\n",
       "    }\n",
       "\n",
       "    .dataframe tbody tr th {\n",
       "        vertical-align: top;\n",
       "    }\n",
       "\n",
       "    .dataframe thead th {\n",
       "        text-align: right;\n",
       "    }\n",
       "</style>\n",
       "<table border=\"1\" class=\"dataframe\">\n",
       "  <thead>\n",
       "    <tr style=\"text-align: right;\">\n",
       "      <th></th>\n",
       "      <th>Total</th>\n",
       "      <th>Percent</th>\n",
       "    </tr>\n",
       "  </thead>\n",
       "  <tbody>\n",
       "    <tr>\n",
       "      <th>Department</th>\n",
       "      <td>295065</td>\n",
       "      <td>52.030231</td>\n",
       "    </tr>\n",
       "    <tr>\n",
       "      <th>Union</th>\n",
       "      <td>345</td>\n",
       "      <td>0.060836</td>\n",
       "    </tr>\n",
       "    <tr>\n",
       "      <th>Job</th>\n",
       "      <td>3</td>\n",
       "      <td>0.000529</td>\n",
       "    </tr>\n",
       "    <tr>\n",
       "      <th>Total Compensation</th>\n",
       "      <td>0</td>\n",
       "      <td>0.000000</td>\n",
       "    </tr>\n",
       "    <tr>\n",
       "      <th>Other Benefits</th>\n",
       "      <td>0</td>\n",
       "      <td>0.000000</td>\n",
       "    </tr>\n",
       "    <tr>\n",
       "      <th>Health and Dental</th>\n",
       "      <td>0</td>\n",
       "      <td>0.000000</td>\n",
       "    </tr>\n",
       "    <tr>\n",
       "      <th>Retirement</th>\n",
       "      <td>0</td>\n",
       "      <td>0.000000</td>\n",
       "    </tr>\n",
       "    <tr>\n",
       "      <th>Employee Identifier</th>\n",
       "      <td>0</td>\n",
       "      <td>0.000000</td>\n",
       "    </tr>\n",
       "    <tr>\n",
       "      <th>Job Family</th>\n",
       "      <td>0</td>\n",
       "      <td>0.000000</td>\n",
       "    </tr>\n",
       "    <tr>\n",
       "      <th>Organization Group</th>\n",
       "      <td>0</td>\n",
       "      <td>0.000000</td>\n",
       "    </tr>\n",
       "    <tr>\n",
       "      <th>Year</th>\n",
       "      <td>0</td>\n",
       "      <td>0.000000</td>\n",
       "    </tr>\n",
       "    <tr>\n",
       "      <th>Year Type</th>\n",
       "      <td>0</td>\n",
       "      <td>0.000000</td>\n",
       "    </tr>\n",
       "    <tr>\n",
       "      <th>Id</th>\n",
       "      <td>0</td>\n",
       "      <td>0.000000</td>\n",
       "    </tr>\n",
       "  </tbody>\n",
       "</table>\n",
       "</div>"
      ],
      "text/plain": [
       "                      Total    Percent\n",
       "Department           295065  52.030231\n",
       "Union                   345   0.060836\n",
       "Job                       3   0.000529\n",
       "Total Compensation        0   0.000000\n",
       "Other Benefits            0   0.000000\n",
       "Health and Dental         0   0.000000\n",
       "Retirement                0   0.000000\n",
       "Employee Identifier       0   0.000000\n",
       "Job Family                0   0.000000\n",
       "Organization Group        0   0.000000\n",
       "Year                      0   0.000000\n",
       "Year Type                 0   0.000000\n",
       "Id                        0   0.000000"
      ]
     },
     "execution_count": 26,
     "metadata": {},
     "output_type": "execute_result"
    }
   ],
   "source": [
    "missing_data_columns = pd.concat([total, percent], axis=1, keys=['Total', 'Percent'])\n",
    "missing_data_columns.head(20)"
   ]
  },
  {
   "cell_type": "code",
   "execution_count": 27,
   "metadata": {},
   "outputs": [],
   "source": [
    "from sklearn.impute import SimpleImputer\n",
    "mode_imputer = SimpleImputer(strategy='most_frequent')\n",
    "mode_imputer.fit(data_train[['Job']])\n",
    "data_train['Job'] = mode_imputer.transform(data_train[['Job']])\n",
    "data_test['Job'] = mode_imputer.transform(data_test[['Job']])"
   ]
  },
  {
   "cell_type": "code",
   "execution_count": 28,
   "metadata": {},
   "outputs": [],
   "source": [
    "from sklearn.impute import SimpleImputer\n",
    "mode_imputer = SimpleImputer(strategy='most_frequent')\n",
    "mode_imputer.fit(data_train[['Union']])\n",
    "data_train['Union'] = mode_imputer.transform(data_train[['Union']])\n",
    "data_test['Union'] = mode_imputer.transform(data_test[['Union']])"
   ]
  },
  {
   "cell_type": "code",
   "execution_count": 29,
   "metadata": {},
   "outputs": [
    {
     "data": {
      "text/html": [
       "<div>\n",
       "<style scoped>\n",
       "    .dataframe tbody tr th:only-of-type {\n",
       "        vertical-align: middle;\n",
       "    }\n",
       "\n",
       "    .dataframe tbody tr th {\n",
       "        vertical-align: top;\n",
       "    }\n",
       "\n",
       "    .dataframe thead th {\n",
       "        text-align: right;\n",
       "    }\n",
       "</style>\n",
       "<table border=\"1\" class=\"dataframe\">\n",
       "  <thead>\n",
       "    <tr style=\"text-align: right;\">\n",
       "      <th></th>\n",
       "      <th>Total</th>\n",
       "      <th>Percent</th>\n",
       "    </tr>\n",
       "  </thead>\n",
       "  <tbody>\n",
       "    <tr>\n",
       "      <th>Department</th>\n",
       "      <td>295065</td>\n",
       "      <td>52.030231</td>\n",
       "    </tr>\n",
       "    <tr>\n",
       "      <th>Total Compensation</th>\n",
       "      <td>0</td>\n",
       "      <td>0.000000</td>\n",
       "    </tr>\n",
       "    <tr>\n",
       "      <th>Other Benefits</th>\n",
       "      <td>0</td>\n",
       "      <td>0.000000</td>\n",
       "    </tr>\n",
       "    <tr>\n",
       "      <th>Health and Dental</th>\n",
       "      <td>0</td>\n",
       "      <td>0.000000</td>\n",
       "    </tr>\n",
       "    <tr>\n",
       "      <th>Retirement</th>\n",
       "      <td>0</td>\n",
       "      <td>0.000000</td>\n",
       "    </tr>\n",
       "    <tr>\n",
       "      <th>Employee Identifier</th>\n",
       "      <td>0</td>\n",
       "      <td>0.000000</td>\n",
       "    </tr>\n",
       "    <tr>\n",
       "      <th>Job</th>\n",
       "      <td>0</td>\n",
       "      <td>0.000000</td>\n",
       "    </tr>\n",
       "    <tr>\n",
       "      <th>Job Family</th>\n",
       "      <td>0</td>\n",
       "      <td>0.000000</td>\n",
       "    </tr>\n",
       "    <tr>\n",
       "      <th>Union</th>\n",
       "      <td>0</td>\n",
       "      <td>0.000000</td>\n",
       "    </tr>\n",
       "    <tr>\n",
       "      <th>Organization Group</th>\n",
       "      <td>0</td>\n",
       "      <td>0.000000</td>\n",
       "    </tr>\n",
       "    <tr>\n",
       "      <th>Year</th>\n",
       "      <td>0</td>\n",
       "      <td>0.000000</td>\n",
       "    </tr>\n",
       "    <tr>\n",
       "      <th>Year Type</th>\n",
       "      <td>0</td>\n",
       "      <td>0.000000</td>\n",
       "    </tr>\n",
       "    <tr>\n",
       "      <th>Id</th>\n",
       "      <td>0</td>\n",
       "      <td>0.000000</td>\n",
       "    </tr>\n",
       "  </tbody>\n",
       "</table>\n",
       "</div>"
      ],
      "text/plain": [
       "                      Total    Percent\n",
       "Department           295065  52.030231\n",
       "Total Compensation        0   0.000000\n",
       "Other Benefits            0   0.000000\n",
       "Health and Dental         0   0.000000\n",
       "Retirement                0   0.000000\n",
       "Employee Identifier       0   0.000000\n",
       "Job                       0   0.000000\n",
       "Job Family                0   0.000000\n",
       "Union                     0   0.000000\n",
       "Organization Group        0   0.000000\n",
       "Year                      0   0.000000\n",
       "Year Type                 0   0.000000\n",
       "Id                        0   0.000000"
      ]
     },
     "execution_count": 29,
     "metadata": {},
     "output_type": "execute_result"
    }
   ],
   "source": [
    "total = data_train.isnull().sum(axis=0).sort_values(ascending=False)\n",
    "percent = ((data_train.isnull().sum(axis=0)/data_train.isnull().count(axis=0))*100).sort_values(ascending=False)\n",
    "missing_data_columns = pd.concat([total, percent], axis=1, keys=['Total', 'Percent'])\n",
    "missing_data_columns.head(20)"
   ]
  },
  {
   "cell_type": "code",
   "execution_count": 30,
   "metadata": {},
   "outputs": [],
   "source": [
    "data_train.drop(['Id','Employee Identifier','Department'],1, inplace= True)"
   ]
  },
  {
   "cell_type": "code",
   "execution_count": 31,
   "metadata": {},
   "outputs": [],
   "source": [
    "X=data_train.drop(['Total Compensation'], axis=1)\n",
    "y=data_train['Total Compensation'].copy()"
   ]
  },
  {
   "cell_type": "code",
   "execution_count": 32,
   "metadata": {},
   "outputs": [],
   "source": [
    "X_train, X_val, y_train, y_val = train_test_split(X, y, test_size=0.2, random_state=0)"
   ]
  },
  {
   "cell_type": "code",
   "execution_count": 33,
   "metadata": {},
   "outputs": [
    {
     "name": "stdout",
     "output_type": "stream",
     "text": [
      "<class 'pandas.core.frame.DataFrame'>\n",
      "Int64Index: 453682 entries, 50624 to 305711\n",
      "Data columns (total 9 columns):\n",
      " #   Column              Non-Null Count   Dtype  \n",
      "---  ------              --------------   -----  \n",
      " 0   Year Type           453682 non-null  int8   \n",
      " 1   Year                453682 non-null  int64  \n",
      " 2   Organization Group  453682 non-null  int8   \n",
      " 3   Union               453682 non-null  int8   \n",
      " 4   Job Family          453682 non-null  int8   \n",
      " 5   Job                 453682 non-null  int16  \n",
      " 6   Retirement          453682 non-null  float64\n",
      " 7   Health and Dental   453682 non-null  float64\n",
      " 8   Other Benefits      453682 non-null  float64\n",
      "dtypes: float64(3), int16(1), int64(1), int8(4)\n",
      "memory usage: 19.9 MB\n",
      "None\n"
     ]
    }
   ],
   "source": [
    "categorical_columns = [c for c in X_train.columns \n",
    "                       if X_train[c].dtype.name == 'object']\n",
    "\n",
    "for column in categorical_columns:\n",
    "    X_train[column]=X_train[column].astype('category').cat.codes\n",
    "    \n",
    "print(X_train.info())"
   ]
  },
  {
   "cell_type": "code",
   "execution_count": 34,
   "metadata": {},
   "outputs": [
    {
     "name": "stdout",
     "output_type": "stream",
     "text": [
      "<class 'pandas.core.frame.DataFrame'>\n",
      "Int64Index: 113421 entries, 162234 to 31678\n",
      "Data columns (total 9 columns):\n",
      " #   Column              Non-Null Count   Dtype  \n",
      "---  ------              --------------   -----  \n",
      " 0   Year Type           113421 non-null  int8   \n",
      " 1   Year                113421 non-null  int64  \n",
      " 2   Organization Group  113421 non-null  int8   \n",
      " 3   Union               113421 non-null  int8   \n",
      " 4   Job Family          113421 non-null  int8   \n",
      " 5   Job                 113421 non-null  int16  \n",
      " 6   Retirement          113421 non-null  float64\n",
      " 7   Health and Dental   113421 non-null  float64\n",
      " 8   Other Benefits      113421 non-null  float64\n",
      "dtypes: float64(3), int16(1), int64(1), int8(4)\n",
      "memory usage: 5.0 MB\n",
      "None\n"
     ]
    }
   ],
   "source": [
    "categorical_columns = [c for c in X_val.columns \n",
    "                       if X_val[c].dtype.name == 'object']\n",
    "for column in categorical_columns:\n",
    "    X_val[column]=X_val[column].astype('category').cat.codes\n",
    "    \n",
    "print(X_val.info())"
   ]
  },
  {
   "cell_type": "code",
   "execution_count": 35,
   "metadata": {},
   "outputs": [
    {
     "name": "stdout",
     "output_type": "stream",
     "text": [
      "<class 'pandas.core.frame.DataFrame'>\n",
      "Int64Index: 453682 entries, 50624 to 305711\n",
      "Data columns (total 9 columns):\n",
      " #   Column              Non-Null Count   Dtype  \n",
      "---  ------              --------------   -----  \n",
      " 0   Year Type           453682 non-null  int8   \n",
      " 1   Year                453682 non-null  int64  \n",
      " 2   Organization Group  453682 non-null  int8   \n",
      " 3   Union               453682 non-null  int8   \n",
      " 4   Job Family          453682 non-null  int8   \n",
      " 5   Job                 453682 non-null  int16  \n",
      " 6   Retirement          453682 non-null  float64\n",
      " 7   Health and Dental   453682 non-null  float64\n",
      " 8   Other Benefits      453682 non-null  float64\n",
      "dtypes: float64(3), int16(1), int64(1), int8(4)\n",
      "memory usage: 19.9 MB\n"
     ]
    }
   ],
   "source": [
    "X_train.info()"
   ]
  },
  {
   "cell_type": "code",
   "execution_count": 36,
   "metadata": {},
   "outputs": [],
   "source": [
    "# Check the distribution of certain columns you might find of interest. \n",
    "# This can be done by calling the plot_distribution(). \n",
    "# Apply some good transformation if required. Call transform_column() to do the same.\n",
    "\n"
   ]
  },
  {
   "cell_type": "code",
   "execution_count": 37,
   "metadata": {},
   "outputs": [],
   "source": [
    "# Before we proceed with the model fitting, we need to get rid of the categorical columns.\n",
    "# We can use One Hot Encoding or Label Encoding to convert the categorical columns to numeric.\n",
    "#Call the encode_category() with the list of columns and the method of encoding to do the same.\n",
    "\n"
   ]
  },
  {
   "cell_type": "code",
   "execution_count": 38,
   "metadata": {},
   "outputs": [],
   "source": [
    "# Now since we have encoded all the categorical columns, there shouldn't be any left in the data.\n",
    "# Check the same by calling num_and_cat_columns()\n",
    "\n",
    "\n"
   ]
  },
  {
   "cell_type": "markdown",
   "metadata": {},
   "source": [
    "### Model building\n",
    "\n",
    "- Separate the features and target.\n",
    "- Now let's come to the actual task, using linear regression, predict the `Total Compensation`. Use different techniques you have learned to imporove the performance of the model.\n",
    "- Try improving upon the `r2_score` (R-Square) using different parameters that give the best score. Call the `fit_model()` with respective parameters.\n",
    "\n"
   ]
  },
  {
   "cell_type": "code",
   "execution_count": 39,
   "metadata": {},
   "outputs": [
    {
     "name": "stdout",
     "output_type": "stream",
     "text": [
      "R2 for Linear Regression is: 0.9408487385287603\n"
     ]
    }
   ],
   "source": [
    "# Code Starts here\n",
    "lr = LinearRegression()\n",
    "lr.fit(X_train, y_train)\n",
    "y_pred_lr = lr.predict(X_val)\n",
    "r2_linreg = r2_score(y_val,y_pred_lr)\n",
    "print(\"R2 for Linear Regression is:\",r2_linreg)\n",
    "\n",
    "# Code ends here"
   ]
  },
  {
   "cell_type": "code",
   "execution_count": 40,
   "metadata": {},
   "outputs": [
    {
     "name": "stdout",
     "output_type": "stream",
     "text": [
      "R2 for Lasso Regression is: 0.9408486890790015\n"
     ]
    }
   ],
   "source": [
    "lasso = Lasso()\n",
    "lasso.fit(X_train, y_train)\n",
    "lasso_pred = lasso.predict(X_val)\n",
    "lasso_r2 = r2_score(y_val, lasso_pred)\n",
    "print(\"R2 for Lasso Regression is:\",lasso_r2)"
   ]
  },
  {
   "cell_type": "code",
   "execution_count": 41,
   "metadata": {},
   "outputs": [
    {
     "name": "stdout",
     "output_type": "stream",
     "text": [
      "R2 for Ridge Regression is: 0.940848738284945\n"
     ]
    }
   ],
   "source": [
    "ridge = Ridge()\n",
    "ridge.fit(X_train, y_train)\n",
    "ridge_pred = ridge.predict(X_val)\n",
    "ridge_r2 = r2_score(y_val, ridge_pred)\n",
    "print(\"R2 for Ridge Regression is:\",ridge_r2)"
   ]
  },
  {
   "cell_type": "code",
   "execution_count": 42,
   "metadata": {},
   "outputs": [
    {
     "name": "stdout",
     "output_type": "stream",
     "text": [
      "R2 for Polynomial Regression is: 0.9581302746615491\n"
     ]
    }
   ],
   "source": [
    "polynomial_model = make_pipeline(PolynomialFeatures(2), LinearRegression())\n",
    "polynomial_model.fit(X_train,y_train)\n",
    "y_pred_poly = polynomial_model.predict(X_val)\n",
    "r2_poly = r2_score(y_val,y_pred_poly)\n",
    "print(\"R2 for Polynomial Regression is:\",r2_poly)"
   ]
  },
  {
   "cell_type": "markdown",
   "metadata": {},
   "source": [
    "### Prediction on the test data and creating the sample submission file.\n",
    "\n",
    "- Load the test data and store the `Id` column in a separate variable.\n",
    "- Perform the same operations on the test data that you have performed on the train data.\n",
    "- Create the submission file as a `csv` file consisting of the `Id` column from the test data and your prediction as the second column."
   ]
  },
  {
   "cell_type": "code",
   "execution_count": 43,
   "metadata": {},
   "outputs": [],
   "source": [
    "data_test.drop(['Employee Identifier','Department'],1, inplace= True)"
   ]
  },
  {
   "cell_type": "code",
   "execution_count": 44,
   "metadata": {},
   "outputs": [],
   "source": [
    "data_test['Retirement']=data_test['Retirement'].str.replace('$','')\n",
    "data_test['Retirement'] = data_test['Retirement'].astype(float)"
   ]
  },
  {
   "cell_type": "code",
   "execution_count": 45,
   "metadata": {},
   "outputs": [],
   "source": [
    "data_test['Health and Dental']=data_test['Health and Dental'].str.replace('$','')\n",
    "data_test['Health and Dental'] = data_test['Health and Dental'].astype(float)"
   ]
  },
  {
   "cell_type": "code",
   "execution_count": 46,
   "metadata": {},
   "outputs": [],
   "source": [
    "data_test['Other Benefits']=data_test['Other Benefits'].str.replace('$','')\n",
    "data_test['Other Benefits'] = data_test['Other Benefits'].astype(float)"
   ]
  },
  {
   "cell_type": "code",
   "execution_count": 47,
   "metadata": {},
   "outputs": [
    {
     "name": "stdout",
     "output_type": "stream",
     "text": [
      "<class 'pandas.core.frame.DataFrame'>\n",
      "RangeIndex: 177220 entries, 0 to 177219\n",
      "Data columns (total 10 columns):\n",
      " #   Column              Non-Null Count   Dtype  \n",
      "---  ------              --------------   -----  \n",
      " 0   Id                  177220 non-null  int64  \n",
      " 1   Year Type           177220 non-null  object \n",
      " 2   Year                177220 non-null  int64  \n",
      " 3   Organization Group  177220 non-null  object \n",
      " 4   Union               177220 non-null  object \n",
      " 5   Job Family          177220 non-null  object \n",
      " 6   Job                 177220 non-null  object \n",
      " 7   Retirement          177220 non-null  float64\n",
      " 8   Health and Dental   177220 non-null  float64\n",
      " 9   Other Benefits      177220 non-null  float64\n",
      "dtypes: float64(3), int64(2), object(5)\n",
      "memory usage: 13.5+ MB\n"
     ]
    }
   ],
   "source": [
    "data_test.info()"
   ]
  },
  {
   "cell_type": "code",
   "execution_count": 48,
   "metadata": {},
   "outputs": [
    {
     "name": "stdout",
     "output_type": "stream",
     "text": [
      "<class 'pandas.core.frame.DataFrame'>\n",
      "RangeIndex: 177220 entries, 0 to 177219\n",
      "Data columns (total 10 columns):\n",
      " #   Column              Non-Null Count   Dtype  \n",
      "---  ------              --------------   -----  \n",
      " 0   Id                  177220 non-null  int64  \n",
      " 1   Year Type           177220 non-null  int8   \n",
      " 2   Year                177220 non-null  int64  \n",
      " 3   Organization Group  177220 non-null  int8   \n",
      " 4   Union               177220 non-null  int8   \n",
      " 5   Job Family          177220 non-null  int8   \n",
      " 6   Job                 177220 non-null  int16  \n",
      " 7   Retirement          177220 non-null  float64\n",
      " 8   Health and Dental   177220 non-null  float64\n",
      " 9   Other Benefits      177220 non-null  float64\n",
      "dtypes: float64(3), int16(1), int64(2), int8(4)\n",
      "memory usage: 7.8 MB\n",
      "None\n"
     ]
    }
   ],
   "source": [
    "categorical_columns = [c for c in data_test.columns \n",
    "                       if data_test[c].dtype.name == 'object']\n",
    "\n",
    "for column in categorical_columns:\n",
    "    data_test[column]=data_test[column].astype('category').cat.codes\n",
    "    \n",
    "print(data_test.info())"
   ]
  },
  {
   "cell_type": "code",
   "execution_count": 49,
   "metadata": {},
   "outputs": [
    {
     "name": "stdout",
     "output_type": "stream",
     "text": [
      "[ 11238.90345436 122428.77731711  92164.69460326 ...  46732.82169229\n",
      "  85299.2981723  111586.06888515]\n"
     ]
    }
   ],
   "source": [
    "\n",
    "# Storing the id from the test file\n",
    "id_ = data_test['Id']\n",
    "data_test.drop(['Id'],1,inplace=True)\n",
    "# Predict on the test data\n",
    "model = make_pipeline(PolynomialFeatures(2), LinearRegression())\n",
    "model.fit(X_train, y_train)\n",
    "y_pred_test =model.predict(data_test)\n",
    "y_pred_test = y_pred_test.flatten()\n",
    "print(y_pred_test)\n",
    "# Create a sample submission file\n",
    "final_submission = pd.DataFrame({'Id':id_,'Total Compensation':y_pred_test})\n",
    "final_submission = final_submission.astype(int)\n",
    "# Convert the sample submission file into a csv file\n",
    "final_submission.to_csv('Final_submission.csv',index=False)\n",
    "\n",
    "# Code ends here"
   ]
  },
  {
   "cell_type": "code",
   "execution_count": null,
   "metadata": {},
   "outputs": [],
   "source": []
  },
  {
   "cell_type": "code",
   "execution_count": null,
   "metadata": {},
   "outputs": [],
   "source": []
  }
 ],
 "metadata": {
  "kernelspec": {
   "display_name": "Python 3",
   "language": "python",
   "name": "python3"
  },
  "language_info": {
   "codemirror_mode": {
    "name": "ipython",
    "version": 3
   },
   "file_extension": ".py",
   "mimetype": "text/x-python",
   "name": "python",
   "nbconvert_exporter": "python",
   "pygments_lexer": "ipython3",
   "version": "3.8.3"
  }
 },
 "nbformat": 4,
 "nbformat_minor": 2
}
